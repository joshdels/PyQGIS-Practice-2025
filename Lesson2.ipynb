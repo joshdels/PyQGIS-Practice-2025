{
 "cells": [
  {
   "cell_type": "markdown",
   "metadata": {},
   "source": [
    "<h3>Processing QGIS</h3>"
   ]
  },
  {
   "cell_type": "code",
   "execution_count": null,
   "metadata": {},
   "outputs": [],
   "source": [
    "import processing\n",
    "\n",
    "myRaster = QgsRasterLayer(\"J:/1. PROJECT/qgis_sample_data/raster/SR_50M_alaska_nad.tif\", \"MyFirstRaster\")\n",
    "# QgsProject.instance().addMapLayer(myRaster)\n",
    "ext = myRaster.extent()\n",
    "\n",
    "print(\"x-minimum: \", ext.xMinimum(), \"x-maximum: \", ext.xMaximum(), \"\\n\", \n",
    "\"y-minimum: \", ext.yMinimum(), \"y-maximum: \", ext.yMaximum())\n",
    "\n",
    "# just spam help() for parameters to be placed\n",
    "processing.algorithmHelp(\"gdal:cliprasterbyextent\")\n",
    "\n",
    "# \n",
    "clipped_raster = processing.run(\"gdal:cliprasterbyextent\", \n",
    "{'INPUT': myRaster, \n",
    "'PROJWIN': [-6232946,6363148, -735684.661767209, 9275122],\n",
    "'NODATA': 999, \n",
    "'DATA_TYPE': 0, \n",
    "'OUTPUT': \"J:/1. PROJECT/qgis_sample_data/raster/PRACTICE_CLIPPED.tif\"\n",
    "})"
   ]
  }
 ],
 "metadata": {
  "language_info": {
   "name": "python"
  }
 },
 "nbformat": 4,
 "nbformat_minor": 2
}
