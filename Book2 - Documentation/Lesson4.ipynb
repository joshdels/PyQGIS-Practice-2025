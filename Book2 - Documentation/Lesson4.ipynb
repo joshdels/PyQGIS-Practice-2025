{
 "cells": [
  {
   "cell_type": "markdown",
   "metadata": {},
   "source": [
    "Start"
   ]
  },
  {
   "cell_type": "code",
   "execution_count": null,
   "metadata": {},
   "outputs": [],
   "source": [
    "# this will select the active qgis layer\n",
    "layer = qgis.utils.iface.activeLayer()\n",
    "layer.id()\n",
    "layer.featureCount()"
   ]
  },
  {
   "cell_type": "code",
   "execution_count": 2,
   "metadata": {},
   "outputs": [
    {
     "ename": "ModuleNotFoundError",
     "evalue": "No module named 'qgis'",
     "output_type": "error",
     "traceback": [
      "\u001b[31m---------------------------------------------------------------------------\u001b[39m",
      "\u001b[31mModuleNotFoundError\u001b[39m                       Traceback (most recent call last)",
      "\u001b[36mCell\u001b[39m\u001b[36m \u001b[39m\u001b[32mIn[2]\u001b[39m\u001b[32m, line 2\u001b[39m\n\u001b[32m      1\u001b[39m \u001b[38;5;66;03m# Now import QGIS modules\u001b[39;00m\n\u001b[32m----> \u001b[39m\u001b[32m2\u001b[39m \u001b[38;5;28;01mfrom\u001b[39;00m\u001b[38;5;250m \u001b[39m\u001b[34;01mqgis\u001b[39;00m\u001b[34;01m.\u001b[39;00m\u001b[34;01mcore\u001b[39;00m\u001b[38;5;250m \u001b[39m\u001b[38;5;28;01mimport\u001b[39;00m *\n\u001b[32m      4\u001b[39m \u001b[38;5;66;03m# Set the prefix path to the QGIS installation directory\u001b[39;00m\n\u001b[32m      5\u001b[39m QgsApplication.setPrefixPath(\u001b[33m\"\u001b[39m\u001b[33mC:/Program Files/QGIS 3.34.11/apps/qgis\u001b[39m\u001b[33m\"\u001b[39m, \u001b[38;5;28;01mTrue\u001b[39;00m)\n",
      "\u001b[31mModuleNotFoundError\u001b[39m: No module named 'qgis'"
     ]
    }
   ],
   "source": [
    "# Now import QGIS modules\n",
    "from qgis.core import *\n",
    "\n",
    "# Set the prefix path to the QGIS installation directory\n",
    "QgsApplication.setPrefixPath(\"C:/Program Files/QGIS 3.34.11/apps/qgis\", True)\n",
    "\n",
    "# Create a reference to the QgsApplication\n",
    "# Setting the second argument to False disables the GUI\n",
    "qgs = QgsApplication([], False)\n",
    "\n",
    "# Initialize QGIS\n",
    "qgs.initQgis()\n",
    "\n",
    "# Now you can work with QGIS API...\n",
    "\n",
    "# # When you're done\n",
    "# qgs.exitQgis()"
   ]
  },
  {
   "cell_type": "code",
   "execution_count": null,
   "metadata": {},
   "outputs": [],
   "source": [
    "import sys\n",
    "import os\n",
    "\n",
    "# Change this to your QGIS installation path\n",
    "QGIS_PATH = r\"C:/Program Files/QGIS 3.34.11/bin/qgis-ltr-bin.exe\"\n",
    "\n",
    "os.environ[\"QT_QPA_PLATFORM_PLUGIN_PATH\"] = os.path.join(QGIS_PATH, \"qt5\", \"plugins\")\n",
    "os.environ[\"GDAL_DATA\"] = os.path.join(QGIS_PATH, \"share\", \"gdal\")\n",
    "os.environ[\"PROJ_LIB\"] = os.path.join(QGIS_PATH, \"share\", \"proj\")\n",
    "\n",
    "sys.path.append(os.path.join(QGIS_PATH, \"python\"))\n",
    "sys.path.append(os.path.join(QGIS_PATH, \"python\", \"plugins\"))\n",
    "\n",
    "# Import QGIS modules\n",
    "from qgis.core import *\n",
    "from qgis.gui import *\n",
    "\n",
    "# Initialize QGIS\n",
    "QgsApplication.setPrefixPath(QGIS_PATH, True)\n",
    "qgs = QgsApplication([], False)\n",
    "qgs.initQgis()\n",
    "\n",
    "print(\"QGIS version:\", QgsApplication.qgisVersion())\n"
   ]
  }
 ],
 "metadata": {
  "kernelspec": {
   "display_name": "Python 3",
   "language": "python",
   "name": "python3"
  },
  "language_info": {
   "codemirror_mode": {
    "name": "ipython",
    "version": 3
   },
   "file_extension": ".py",
   "mimetype": "text/x-python",
   "name": "python",
   "nbconvert_exporter": "python",
   "pygments_lexer": "ipython3",
   "version": "3.12.6"
  }
 },
 "nbformat": 4,
 "nbformat_minor": 2
}
