{
 "cells": [
  {
   "cell_type": "markdown",
   "metadata": {},
   "source": [
    "Map Canvas"
   ]
  },
  {
   "cell_type": "code",
   "execution_count": null,
   "metadata": {},
   "outputs": [],
   "source": [
    "# mapCanvas = iface.mapCanvas()\n",
    "# hmmm i cannot understand this yet.... maybe soon\n",
    "\n",
    "from qgis.gui import QgsMapToolZoom\n",
    "\n",
    "oldMapTool = iface.mapCanvas().mapTool()\n",
    "print(\"Previous Map tool is a\", oldMapTool)\n",
    "\n",
    "#Zoom Map tool\n",
    "newMapTool = QgsMapToolZoom(iface.mapCanvas(), False)\n",
    "\n",
    "# set current map tool\n",
    "iface.mapCanvas().setMapTool(newMapTool)\n",
    "print(\"Current map tool is a\", iface.mapCanvas().mapTool())\n",
    "\n",
    "# set the previous map tool\n",
    "iface.mapCanvas().setMapTool(oldMapTool)\n",
    "print(\"Current map tool is a\", iface.mapCanvas().mapTool())"
   ]
  },
  {
   "cell_type": "markdown",
   "metadata": {},
   "source": [
    "Shows Coordinates"
   ]
  },
  {
   "cell_type": "code",
   "execution_count": null,
   "metadata": {},
   "outputs": [],
   "source": [
    "# Previous Map tool\n",
    "previousMapTool = iface.mapCanvas().mapTool()\n",
    "\n",
    "# New Map tool\n",
    "from qgis.gui import QgsMapToolEmitPoint\n",
    "myMapTool = QgsMapToolEmitPoint(iface.mapCanvas())\n",
    "\n",
    "def showCoordinates(currentPos):\n",
    "    print(\"move coordinate %d-%d\" % (currentPos.x(), currentPos.y()))\n",
    "\n",
    "# Connect to the coordinate signal\n",
    "iface.mapCanvas().xyCoordinates.connect(showCoordinates)\n",
    "\n",
    "# Note: Don't disconnect until you're done tracking coordinates\n",
    "iface.mapCanvas().xyCoordinates.disconnect(showCoordinates)"
   ]
  },
  {
   "cell_type": "markdown",
   "metadata": {},
   "source": [
    "Hover Coordinates"
   ]
  },
  {
   "cell_type": "code",
   "execution_count": null,
   "metadata": {},
   "outputs": [],
   "source": [
    "# mouse button click\n",
    "from PyQt5.QtCore import Qt\n",
    "from qgis.gui import QgsMapToolEmitPoint\n",
    "\n",
    "#previous map tool\n",
    "previousMapTool = iface.mapCanvas().mapTool()\n",
    "\n",
    "#current map tool\n",
    "myMapTool = QgsMapToolEmitPoint(iface.mapCanvas())\n",
    "\n",
    "# Create Handler\n",
    "def manageClick(currentPos, clickedButton):\n",
    "    if clickedButton == Qt.LeftButton:\n",
    "        print(\"Clicked on %d-%d\" % (currentPos.x(), currentPos.y()))\n",
    "    if clickedButton == Qt.RightButton:\n",
    "        #reset to the previous mapTool\n",
    "        iface.mapCanvas().setMapTool(previousMapTool)\n",
    "        # clean remove myMaptoo\n",
    "        myMapTool.deleteLater()\n",
    "\n",
    "myMapTool.canvasClicked.connect(manageClick)\n",
    "\n",
    "iface.mapCanvas().setMapTool(myMapTool)"
   ]
  },
  {
   "cell_type": "markdown",
   "metadata": {},
   "source": [
    "Show data of landcover everyclick"
   ]
  },
  {
   "cell_type": "code",
   "execution_count": null,
   "metadata": {},
   "outputs": [],
   "source": [
    "# mouse button click\n",
    "from PyQt5.QtCore import Qt\n",
    "from qgis.gui import QgsMapToolEmitPoint\n",
    "\n",
    "#previous map tool\n",
    "previousMapTool = iface.mapCanvas().mapTool()\n",
    "\n",
    "#current map tool\n",
    "myMapTool = QgsMapToolEmitPoint(iface.mapCanvas())\n",
    "\n",
    "# Create Handler for land cover checker\n",
    "def manageClick(currentPos, clickedButton):\n",
    "    if clickedButton == Qt.LeftButton:\n",
    "        provider = iface.activeLayer().dataProvider()\n",
    "        result = provider.identify(currentPos, QgsRaster.IdentifyFormatValue)\n",
    "        if result.isValid():\n",
    "            print(\"Value at %d -%d\" % (currentPos.x(), currentPos.y()))\n",
    "            print(result.results())\n",
    "    if clickedButton == Qt.RightButton:\n",
    "        #reset to the previous mapTool\n",
    "        iface.mapCanvas().setMapTool(previousMapTool)\n",
    "        # clean remove myMaptoo\n",
    "        myMapTool.deleteLater()\n",
    "\n",
    "myMapTool.canvasClicked.connect(manageClick)\n",
    "\n",
    "iface.mapCanvas().setMapTool(myMapTool)"
   ]
  }
 ],
 "metadata": {
  "language_info": {
   "name": "python"
  }
 },
 "nbformat": 4,
 "nbformat_minor": 2
}
