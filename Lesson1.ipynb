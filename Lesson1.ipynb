{
 "cells": [
  {
   "cell_type": "markdown",
   "metadata": {
    "vscode": {
     "languageId": "plaintext"
    }
   },
   "source": [
    "### Open QGIS software and load airport shp"
   ]
  },
  {
   "cell_type": "code",
   "execution_count": null,
   "metadata": {},
   "outputs": [],
   "source": [
    "layer = iface.activeLayer()\n",
    "print(layer.id())"
   ]
  },
  {
   "cell_type": "markdown",
   "metadata": {},
   "source": [
    "airports_23412341q234"
   ]
  },
  {
   "cell_type": "markdown",
   "metadata": {},
   "source": [
    "### Looping features"
   ]
  },
  {
   "cell_type": "code",
   "execution_count": null,
   "metadata": {},
   "outputs": [],
   "source": [
    "for feature in layer.getFeatures():\n",
    "    print(\"feature %d has attributes and geometry:\" % feature.id())\n",
    "    print(feature.attributes())"
   ]
  },
  {
   "cell_type": "markdown",
   "metadata": {},
   "source": [
    "<h4>some functions of QGIS</h4>\n",
    "    <ul>\n",
    "        <li>layer.getFeatures()</li>  \n",
    "        <li>feature.attributes()</li>\n",
    "        <li>feature.geometry()</li>\n",
    "    </ul>"
   ]
  },
  {
   "cell_type": "markdown",
   "metadata": {},
   "source": [
    "<h1>Rasters</h1>"
   ]
  },
  {
   "cell_type": "code",
   "execution_count": null,
   "metadata": {},
   "outputs": [],
   "source": [
    "#This will load the raster in the Software QGIS\n",
    "iface.addRasterLayer(\"path/rasterfile\", \"name_intent\")"
   ]
  },
  {
   "cell_type": "code",
   "execution_count": null,
   "metadata": {},
   "outputs": [],
   "source": [
    "#this will open an image\n",
    "myRaster = QgsRasterLayer(\"J:/1. PROJECT/qgis_sample_data/raster/landcover.img\")\n",
    "\n",
    "myRaster.isValid()\n",
    "\n",
    "#this will check the width and height\n",
    "print(myRaster.height(), '-', myRaster.width())"
   ]
  },
  {
   "cell_type": "code",
   "execution_count": null,
   "metadata": {},
   "outputs": [],
   "source": [
    "#Visualize\n",
    "myRaster = QgsRasterLayer(\"J:/1. PROJECT/qgis_sample_data/raster/landcover.img\")\n",
    "QgsProject.instance().addMapLayer(myRaster)"
   ]
  },
  {
   "cell_type": "markdown",
   "metadata": {},
   "source": [
    "<h1>Vector</h1>"
   ]
  },
  {
   "cell_type": "code",
   "execution_count": null,
   "metadata": {},
   "outputs": [],
   "source": [
    "#visualize\n",
    "myVector = QgsVectorLayer(\"J:/1. PROJECT/qgis_sample_data/shapefiles/alaska.shp\",\"MyFirstVector\", \"ogr\")\n",
    "QgsProject.instance().addMapLayer(myVector)\n",
    "\n",
    "print(myVector.extent().toString())\n",
    "\n",
    "#feature Count\n",
    "myVector.featureCount()\n",
    "\n",
    "# its like help of what it can do\n",
    "myVector.capabilitiesString()\n",
    "\n",
    "#describing headers\n",
    "header = myVector.fields()\n",
    "print(\"How many columns?\", header.count())\n",
    "print(\"does the column 4 exits?\", header.exists(4))\n",
    "print(\"Column 0 has name\", header[0].name())\n",
    "for column in header:\n",
    "    print(\"name\", column.name()) #name of the header\n",
    "    print(\"type\", column.typeName()) # type of the header will result to string ,int etc.\n",
    "    print(\"precision\", column.precision())\n",
    "    \n",
    "#describing rows\n",
    "print(feature.attributes())\n",
    "geom = feature.geometry()\n",
    "print(geom)\n",
    "\n",
    "print(\"It's length is\", geom.length())\n",
    "print(\"It's area measure\", geom.area())\n",
    "print(\"Is it multipart?\", geom.isMultipart())\n",
    "\n"
   ]
  },
  {
   "cell_type": "markdown",
   "metadata": {},
   "source": [
    "<h1>Point</h1>"
   ]
  },
  {
   "cell_type": "code",
   "execution_count": null,
   "metadata": {},
   "outputs": [],
   "source": [
    "myPoint = QgsGeometry.fromWkt('POINT(-195935.165 766139000.585')\n",
    "newPoint = QgsPointXY(-195935.165,  766139000.585)\n",
    "myPoint = QgsGeometry.fromPointXY(newPoint)"
   ]
  },
  {
   "cell_type": "markdown",
   "metadata": {},
   "source": [
    "<h1>Database Vectors</h1>"
   ]
  },
  {
   "cell_type": "code",
   "execution_count": null,
   "metadata": {},
   "outputs": [],
   "source": [
    "uri = QgsDataSourceUri()\n",
    "uri.setConnection(\"localhost\", \"5432\", \"myDb\", \"myUserName\", \"myPassword\")\n",
    "uri.setDataSource(\"public\", \"myTable\", \"the_geom\", \"myWhere\")\n",
    "print(uri.uri())\n",
    "\n",
    "uri = QgsDataSourceUri()\n",
    "uri.setConnection(\"localhost\", \"5432\", \"myDb\", \"myUserName\", \"myPassword\")\n",
    "uri.setDataSource(\"public\", \"myTable\", \"the_geom\", \"myWhere\")\n",
    "print(uri.uri())"
   ]
  },
  {
   "cell_type": "markdown",
   "metadata": {},
   "source": [
    "<h1>Feature</h1>"
   ]
  },
  {
   "cell_type": "code",
   "execution_count": null,
   "metadata": {},
   "outputs": [],
   "source": [
    "for feature in myVector.getFeatures():\n",
    "    feature.id()\n",
    "    \n",
    "rect = QgsRectangle(1223070.695, 2293653.357, 9036974.211, 4184988.662) # rectangle\n",
    "myVector.setSubsetString('\"AREA_MI\" > 1000') # query\n",
    "request = QgsFeatureRequest()\n",
    "request.setSubsetOfAttributes([0,2])\n",
    "request.setFilterRect(rect)\n",
    "for index, feature in enumerate (myVector.getFeatures(request)):\n",
    "    print(\"The record %d has ID %d\" %(index, feature.id()))"
   ]
  }
 ],
 "metadata": {
  "kernelspec": {
   "display_name": "Python 3",
   "language": "python",
   "name": "python3"
  },
  "language_info": {
   "codemirror_mode": {
    "name": "ipython",
    "version": 3
   },
   "file_extension": ".py",
   "mimetype": "text/x-python",
   "name": "python",
   "nbconvert_exporter": "python",
   "pygments_lexer": "ipython3",
   "version": "3.13.0"
  }
 },
 "nbformat": 4,
 "nbformat_minor": 2
}
